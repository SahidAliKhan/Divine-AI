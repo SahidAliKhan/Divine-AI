{
 "cells": [
  {
   "cell_type": "markdown",
   "metadata": {
    "slideshow": {
     "slide_type": "slide"
    }
   },
   "source": [
    "# An introduction to Python\n",
    "\n",
    "- Python website: https://www.python.org/ \n",
    "- [Python 3 Standard Library](https://docs.python.org/3/library/index.html])"
   ]
  },
  {
   "cell_type": "markdown",
   "metadata": {
    "slideshow": {
     "slide_type": "slide"
    }
   },
   "source": [
    "## Learning objectives\n",
    "\n",
    "- **Basics** how to print, create variables and save Python code in files\n",
    "- **List** the most common data types in Python\n",
    "- **Explain** how to write conditions and loops in Python\n",
    "- **Use and compare** these concepts in different code examples \n",
    "- **Propose and create** solutions using these concepts in different exercises"
   ]
  },
  {
   "cell_type": "markdown",
   "metadata": {
    "slideshow": {
     "slide_type": "slide"
    }
   },
   "source": [
    "- **Session 2.1** - Functions\n",
    "- **Session 2.2** - Modules\n",
    "- **Session 2.3** - Files"
   ]
  },
  {
   "cell_type": "markdown",
   "metadata": {
    "slideshow": {
     "slide_type": "slide"
    }
   },
   "source": [
    "## What we've learned so far\n",
    "\n",
    "- Simple data types, Collections\n",
    "- Conditional execution\n",
    "- Loops\n",
    "- Functions used so far..."
   ]
  },
  {
   "cell_type": "markdown",
   "metadata": {
    "slideshow": {
     "slide_type": "slide"
    }
   },
   "source": [
    "## Collections"
   ]
  },
  {
   "cell_type": "code",
   "execution_count": 1,
   "metadata": {
    "slideshow": {
     "slide_type": "subslide"
    }
   },
   "outputs": [
    {
     "name": "stdout",
     "output_type": "stream",
     "text": [
      "A tuple: (2, 3, 4, 5)\n",
      "First element of tuple: 2\n"
     ]
    }
   ],
   "source": [
    "## Tuple - immutable\n",
    "example_tuple = (2, 3, 4, 5)\n",
    "print('A tuple:', example_tuple)\n",
    "print('First element of tuple:', example_tuple[0])"
   ]
  },
  {
   "cell_type": "code",
   "execution_count": 2,
   "metadata": {
    "slideshow": {
     "slide_type": "subslide"
    }
   },
   "outputs": [
    {
     "name": "stdout",
     "output_type": "stream",
     "text": [
      "A list: [2, 3, 4, 5]\n",
      "First element of list: 2\n",
      "Appended list: [2, 3, 4, 5, 12]\n",
      "Modified list: [45, 3, 4, 5, 12]\n"
     ]
    }
   ],
   "source": [
    "## List\n",
    "example_list = [2, 3, 4, 5]\n",
    "print('A list:', example_list)\n",
    "print('First element of list:', example_list[0])\n",
    "example_list.append(12)\n",
    "print('Appended list:', example_list)\n",
    "example_list[0] = 45\n",
    "print('Modified list:', example_list)"
   ]
  },
  {
   "cell_type": "code",
   "execution_count": 3,
   "metadata": {
    "slideshow": {
     "slide_type": "subslide"
    }
   },
   "outputs": [
    {
     "name": "stdout",
     "output_type": "stream",
     "text": [
      "Here is a string: ABCDEFGH\n",
      "First character: A\n",
      "Number of characters in text 8\n"
     ]
    }
   ],
   "source": [
    "## String - immutable, tuple of characters\n",
    "text = \"ABCDEFGH\"\n",
    "print('Here is a string:', text)\n",
    "print('First character:', text[0])\n",
    "print('Number of characters in text', len(text))"
   ]
  },
  {
   "cell_type": "code",
   "execution_count": 4,
   "metadata": {
    "slideshow": {
     "slide_type": "subslide"
    }
   },
   "outputs": [
    {
     "name": "stdout",
     "output_type": "stream",
     "text": [
      "A set: {1, 2, 4, 5, 6}\n"
     ]
    }
   ],
   "source": [
    "## Set - unique unordered elements\n",
    "example_set = set([1,2,2,2,2,4,5,6,6,6])\n",
    "print('A set:', example_set)"
   ]
  },
  {
   "cell_type": "code",
   "execution_count": 5,
   "metadata": {
    "slideshow": {
     "slide_type": "subslide"
    }
   },
   "outputs": [
    {
     "name": "stdout",
     "output_type": "stream",
     "text": [
      "A dictionary: {'A': 'APPLE', 'B': 'BALL', 'C': 'CAT', 'D': 'DOLL'}\n",
      "Value associated to key C: CAT\n"
     ]
    }
   ],
   "source": [
    "## Dictionary\n",
    "example_dictionary = {\"A\": \"APPLE\", \n",
    "                      \"B\": \"BALL\", \n",
    "                      \"C\": \"CAT\", \n",
    "                      \"D\": \"DOLL\"}\n",
    "print('A dictionary:', example_dictionary)\n",
    "print('Value associated to key C:', example_dictionary['C'])"
   ]
  },
  {
   "cell_type": "markdown",
   "metadata": {
    "slideshow": {
     "slide_type": "slide"
    }
   },
   "source": [
    "## Conditional execution"
   ]
  },
  {
   "cell_type": "code",
   "execution_count": 8,
   "metadata": {},
   "outputs": [
    {
     "name": "stdout",
     "output_type": "stream",
     "text": [
      "Is 2 < 5? True\n",
      "Is 2 == 5? False\n",
      "Is 2 < 5 and 2 > 1? True\n",
      "x is equal to 2\n"
     ]
    }
   ],
   "source": [
    "x = 2\n",
    "print('Is 2 < 5?', x < 5)\n",
    "print('Is 2 == 5?', x == 5)\n",
    "print('Is 2 < 5 and 2 > 1?', (x < 5) & (x > 1))\n",
    "\n",
    "if x == 2:\n",
    "    print('x is equal to 2')"
   ]
  },
  {
   "cell_type": "markdown",
   "metadata": {
    "slideshow": {
     "slide_type": "slide"
    }
   },
   "source": [
    "## Loops"
   ]
  },
  {
   "cell_type": "code",
   "execution_count": 9,
   "metadata": {
    "slideshow": {
     "slide_type": "-"
    }
   },
   "outputs": [
    {
     "name": "stdout",
     "output_type": "stream",
     "text": [
      "The element in list is: A\n",
      "The element in list is: B\n",
      "The element in list is: C\n",
      "The element in list is: D\n",
      "The element in list is: E\n"
     ]
    }
   ],
   "source": [
    "example_list = ['A', 'B', 'C', 'D', 'E']\n",
    "\n",
    "## Looping through a list\n",
    "for element in example_list:\n",
    "    print(\"The element in list is:\", element)"
   ]
  },
  {
   "cell_type": "markdown",
   "metadata": {
    "slideshow": {
     "slide_type": "slide"
    }
   },
   "source": [
    "## Exercise 2.0.1\n",
    "\n",
    "- Create a string variable with the lyrics of Imagine by John Lennon, 1971. Split into words. Print the total number of words, and the number of unique words. Calculate the frequency of each word and store the result into a dictionary. Print each unique word along with its frequency. Find the most frequent word in the song, print it with its frequency.\n",
    "\n",
    "<center><img src=\"https://upload.wikimedia.org/wikipedia/en/1/1d/John_Lennon_-_Imagine_John_Lennon.jpg\"/></center>"
   ]
  },
  {
   "cell_type": "code",
   "execution_count": 6,
   "metadata": {
    "slideshow": {
     "slide_type": "subslide"
    }
   },
   "outputs": [],
   "source": [
    "lyrics = \"\"\"\n",
    "Imagine there's no Heaven\n",
    "It's easy if you try\n",
    "No Hell below us\n",
    "Above us only sky\n",
    "\n",
    "Imagine all the people\n",
    "Living for today\n",
    "Aaa haa\n",
    "\n",
    "Imagine there's no countries\n",
    "It isn't hard to do\n",
    "Nothing to kill or die for\n",
    "And no religion too\n",
    "\n",
    "Imagine all the people\n",
    "Living life in peace\n",
    "Yoo hoo\n",
    "\n",
    "You may say I'm a dreamer\n",
    "But I'm not the only one\n",
    "I hope someday you'll join us\n",
    "And the world will be as one\n",
    "\n",
    "Imagine no possessions\n",
    "I wonder if you can\n",
    "No need for greed or hunger\n",
    "A brotherhood of man\n",
    "\n",
    "Imagine all the people\n",
    "Sharing all the world\n",
    "Yoo hoo\n",
    "\n",
    "You may say I'm a dreamer\n",
    "But I'm not the only one\n",
    "I hope someday you'll join us\n",
    "And the world will live as one\n",
    "\"\"\""
   ]
  },
  {
   "cell_type": "code",
   "execution_count": 24,
   "metadata": {},
   "outputs": [
    {
     "name": "stdout",
     "output_type": "stream",
     "text": [
      "Total number of words: 133\n",
      "Total number of unique words: 72\n",
      "Each unique word along with its frequency Imagine : 6\n",
      "Each unique word along with its frequency there's : 2\n",
      "Each unique word along with its frequency no : 4\n",
      "Each unique word along with its frequency Heaven : 1\n",
      "Each unique word along with its frequency It's : 1\n",
      "Each unique word along with its frequency easy : 1\n",
      "Each unique word along with its frequency if : 2\n",
      "Each unique word along with its frequency you : 2\n",
      "Each unique word along with its frequency try : 1\n",
      "Each unique word along with its frequency No : 2\n",
      "Each unique word along with its frequency Hell : 1\n",
      "Each unique word along with its frequency below : 1\n",
      "Each unique word along with its frequency us : 4\n",
      "Each unique word along with its frequency Above : 1\n",
      "Each unique word along with its frequency only : 3\n",
      "Each unique word along with its frequency sky : 1\n",
      "Each unique word along with its frequency all : 4\n",
      "Each unique word along with its frequency the : 8\n",
      "Each unique word along with its frequency people : 3\n",
      "Each unique word along with its frequency Living : 2\n",
      "Each unique word along with its frequency for : 3\n",
      "Each unique word along with its frequency today : 1\n",
      "Each unique word along with its frequency Aaa : 1\n",
      "Each unique word along with its frequency haa : 1\n",
      "Each unique word along with its frequency countries : 1\n",
      "Each unique word along with its frequency It : 1\n",
      "Each unique word along with its frequency isn't : 1\n",
      "Each unique word along with its frequency hard : 1\n",
      "Each unique word along with its frequency to : 2\n",
      "Each unique word along with its frequency do : 1\n",
      "Each unique word along with its frequency Nothing : 1\n",
      "Each unique word along with its frequency kill : 1\n",
      "Each unique word along with its frequency or : 2\n",
      "Each unique word along with its frequency die : 1\n",
      "Each unique word along with its frequency And : 3\n",
      "Each unique word along with its frequency religion : 1\n",
      "Each unique word along with its frequency too : 1\n",
      "Each unique word along with its frequency life : 1\n",
      "Each unique word along with its frequency in : 1\n",
      "Each unique word along with its frequency peace : 1\n",
      "Each unique word along with its frequency Yoo : 2\n",
      "Each unique word along with its frequency hoo : 2\n",
      "Each unique word along with its frequency You : 2\n",
      "Each unique word along with its frequency may : 2\n",
      "Each unique word along with its frequency say : 2\n",
      "Each unique word along with its frequency I'm : 4\n",
      "Each unique word along with its frequency a : 2\n",
      "Each unique word along with its frequency dreamer : 2\n",
      "Each unique word along with its frequency But : 2\n",
      "Each unique word along with its frequency not : 2\n",
      "Each unique word along with its frequency one : 4\n",
      "Each unique word along with its frequency I : 3\n",
      "Each unique word along with its frequency hope : 2\n",
      "Each unique word along with its frequency someday : 2\n",
      "Each unique word along with its frequency you'll : 2\n",
      "Each unique word along with its frequency join : 2\n",
      "Each unique word along with its frequency world : 3\n",
      "Each unique word along with its frequency will : 2\n",
      "Each unique word along with its frequency be : 1\n",
      "Each unique word along with its frequency as : 2\n",
      "Each unique word along with its frequency possessions : 1\n",
      "Each unique word along with its frequency wonder : 1\n",
      "Each unique word along with its frequency can : 1\n",
      "Each unique word along with its frequency need : 1\n",
      "Each unique word along with its frequency greed : 1\n",
      "Each unique word along with its frequency hunger : 1\n",
      "Each unique word along with its frequency A : 1\n",
      "Each unique word along with its frequency brotherhood : 1\n",
      "Each unique word along with its frequency of : 1\n",
      "Each unique word along with its frequency man : 1\n",
      "Each unique word along with its frequency Sharing : 1\n",
      "Each unique word along with its frequency live : 1\n",
      "The most frequent word in the song: the : 8\n"
     ]
    }
   ],
   "source": [
    "list = lyrics.split()\n",
    "words = len(list)\n",
    "print(\"Total number of words:\",words)\n",
    "unique=[]\n",
    "for x in list:\n",
    "    if x not in unique:\n",
    "        unique.append(x)\n",
    "print(\"Total number of unique words:\",len(unique))\n",
    "dic={}\n",
    "for i in list:\n",
    "    if i not in dic:\n",
    "        dic[i]=0\n",
    "    dic[i]=dic[i]+1\n",
    "for i in range(0,len(unique)):\n",
    "    print(\"Each unique word along with its frequency\",unique[i],':', list.count(unique[i]))\n",
    "max_word=max(dic,key=dic.get)\n",
    "all_fre = dic.values()\n",
    "max_fre = max(all_fre)\n",
    "print(\"The most frequent word in the song:\", max_word,':', max_fre)"
   ]
  },
  {
   "cell_type": "markdown",
   "metadata": {
    "slideshow": {
     "slide_type": "slide"
    }
   },
   "source": [
    "## Next session\n",
    "\n",
    "- Go to next session: [Session 6](Session_6.ipynb)"
   ]
  }
 ],
 "metadata": {
  "celltoolbar": "Slideshow",
  "kernelspec": {
   "display_name": "Python 3",
   "language": "python",
   "name": "python3"
  },
  "language_info": {
   "codemirror_mode": {
    "name": "ipython",
    "version": 3
   },
   "file_extension": ".py",
   "mimetype": "text/x-python",
   "name": "python",
   "nbconvert_exporter": "python",
   "pygments_lexer": "ipython3",
   "version": "3.7.1"
  }
 },
 "nbformat": 4,
 "nbformat_minor": 1
}
