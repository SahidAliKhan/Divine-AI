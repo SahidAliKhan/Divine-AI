{
 "cells": [
  {
   "cell_type": "code",
   "execution_count": 1,
   "id": "dc5f4e86",
   "metadata": {},
   "outputs": [
    {
     "name": "stdout",
     "output_type": "stream",
     "text": [
      "Enter a number:4\n",
      "Sum of cube of each digit : 64\n"
     ]
    }
   ],
   "source": [
    "# Find the sum of the cube of each digit\n",
    "\n",
    "n = int(input(\"Enter a number:\"))\n",
    "sum = 0\n",
    "while n > 0:\n",
    "    d = n % 10\n",
    "    sum = sum + d ** 3\n",
    "    n //= 10\n",
    "print (\"Sum of cube of each digit :\", sum)"
   ]
  },
  {
   "cell_type": "code",
   "execution_count": 2,
   "id": "f8b44fb4",
   "metadata": {},
   "outputs": [
    {
     "name": "stdout",
     "output_type": "stream",
     "text": [
      "Enter lower limit:4\n",
      "Enter upper limit:6\n",
      "4\n",
      "5\n",
      "6\n"
     ]
    }
   ],
   "source": [
    "#Python Program to Find Armstrong Number in an Interval\n",
    "\n",
    "low = int(input(\"Enter lower limit:\"))\n",
    "up = int(input(\"Enter upper limit:\"))\n",
    "for i in range(low, up+1):\n",
    "    temp = i\n",
    "    l = len(str(i))\n",
    "    check = 0\n",
    "    while temp > 0:\n",
    "        d = temp % 10\n",
    "        check = check + d ** l\n",
    "        temp //= 10\n",
    "    if (check == i):\n",
    "        print (i)"
   ]
  },
  {
   "cell_type": "code",
   "execution_count": 3,
   "id": "94aef1cd",
   "metadata": {},
   "outputs": [
    {
     "name": "stdout",
     "output_type": "stream",
     "text": [
      "Enter the number upto which you want the sum:34\n",
      "Sum: 595\n"
     ]
    }
   ],
   "source": [
    "#Python Program to Find the Sum of Natural Numbers\n",
    "\n",
    "n = int(input(\"Enter the number upto which you want the sum:\"))\n",
    "sum = 0\n",
    "for i in range (1, n+1):\n",
    "    sum = sum + i\n",
    "print (\"Sum:\", sum)"
   ]
  },
  {
   "cell_type": "code",
   "execution_count": 4,
   "id": "ad9e2f0c",
   "metadata": {},
   "outputs": [
    {
     "name": "stdout",
     "output_type": "stream",
     "text": [
      "Power of 2:\n",
      "[2, 4, 8, 16, 32]\n"
     ]
    }
   ],
   "source": [
    "#Python Program To Display Powers of 2 Using Anonymous Function\n",
    "\n",
    "power = [1, 2, 3, 4, 5]\n",
    "print (\"Power of 2:\")\n",
    "print(list(map(lambda n: 2 ** n, power)))"
   ]
  },
  {
   "cell_type": "code",
   "execution_count": 5,
   "id": "521a4654",
   "metadata": {},
   "outputs": [
    {
     "name": "stdout",
     "output_type": "stream",
     "text": [
      "Enter a number from 1 to 15:4\n",
      "Numbers divisible by 4 are:\n",
      "4\n",
      "8\n",
      "12\n"
     ]
    }
   ],
   "source": [
    "#Python Program to Find Numbers Divisible by Another Number\n",
    "\n",
    "l = [1, 2, 3, 4, 5, 6, 7, 8, 9, 10, 11, 12, 13, 14, 15]\n",
    "n = int(input(\"Enter a number from 1 to 15:\"))\n",
    "print (\"Numbers divisible by {} are:\".format(n))\n",
    "for i in l:\n",
    "    if (i % n == 0):\n",
    "        print (i)"
   ]
  },
  {
   "cell_type": "code",
   "execution_count": 6,
   "id": "485ee57d",
   "metadata": {},
   "outputs": [
    {
     "name": "stdout",
     "output_type": "stream",
     "text": [
      "Enter a decimal number:3\n",
      "Binary representation of 3 is:  11\n"
     ]
    }
   ],
   "source": [
    "#Python Program to Convert Decimal to Binary\n",
    "\n",
    "n = int(input(\"Enter a decimal number:\"))\n",
    "print (\"Binary representation of {} is:\".format(n), bin(n).replace(\"0b\", \" \"))"
   ]
  },
  {
   "cell_type": "code",
   "execution_count": 7,
   "id": "90834878",
   "metadata": {},
   "outputs": [
    {
     "name": "stdout",
     "output_type": "stream",
     "text": [
      "Enter a decimal number:1011\n",
      "Hexadecimal representation of 1011 is: 3F3\n"
     ]
    }
   ],
   "source": [
    "#Python Program to Convert Decimal to Hexadecimal\n",
    "\n",
    "n = int(input(\"Enter a decimal number:\"))\n",
    "print (\"Hexadecimal representation of {} is:\".format(n), hex(n).replace(\"0x\", \"\").upper())"
   ]
  },
  {
   "cell_type": "code",
   "execution_count": 8,
   "id": "f7be39c2",
   "metadata": {},
   "outputs": [
    {
     "name": "stdout",
     "output_type": "stream",
     "text": [
      "Enter a character:g\n",
      "ASCII value of g is: 103\n"
     ]
    }
   ],
   "source": [
    "#Python Program to Find ASCII Value of Character\n",
    "\n",
    "val = input(\"Enter a character:\")\n",
    "print (\"ASCII value of {} is:\".format(val), ord(val))"
   ]
  },
  {
   "cell_type": "code",
   "execution_count": 9,
   "id": "b0a8a7d1",
   "metadata": {},
   "outputs": [
    {
     "name": "stdout",
     "output_type": "stream",
     "text": [
      "Enter first number:5\n",
      "Enter second number:9\n",
      "HCF of 5 and 9 is: 1\n"
     ]
    }
   ],
   "source": [
    "#Python Program to Find HCF or GCD\n",
    "\n",
    "n1 = int(input(\"Enter first number:\"))\n",
    "n2 = int(input(\"Enter second number:\"))\n",
    "if (n1 > n2):\n",
    "    small = n2\n",
    "elif (n2 > n1):\n",
    "    small = n1\n",
    "for i in range(1, small+1):\n",
    "    if ((n1 % i == 0) and (n2 % i == 0)):\n",
    "        hcf = i\n",
    "print (\"HCF of {} and {} is:\".format(n1, n2), hcf)"
   ]
  },
  {
   "cell_type": "code",
   "execution_count": 10,
   "id": "972a9062",
   "metadata": {},
   "outputs": [
    {
     "name": "stdout",
     "output_type": "stream",
     "text": [
      "Enter first number:4\n",
      "Enter second number:8\n",
      "HCF of 4 and 8 is: 4\n"
     ]
    }
   ],
   "source": [
    "#Write a python function to find HCf or GCD and return the value\n",
    "\n",
    "def hcf(x, y):\n",
    "    if (x > y):\n",
    "        small = y\n",
    "    elif (y > x):\n",
    "        small = x\n",
    "    for i in range(1, small+1):\n",
    "        if ((x % i == 0) and (y % i == 0)):\n",
    "            hcf = i\n",
    "    return hcf\n",
    "\n",
    "n1 = int(input(\"Enter first number:\"))\n",
    "n2 = int(input(\"Enter second number:\"))\n",
    "print(\"HCF of {} and {} is:\".format(n1, n2), hcf(n1, n2))"
   ]
  },
  {
   "cell_type": "code",
   "execution_count": 11,
   "id": "214b44c2",
   "metadata": {},
   "outputs": [
    {
     "name": "stdout",
     "output_type": "stream",
     "text": [
      "Enter first number:6\n",
      "Enter second number:7\n",
      "HCF of the numbers using Euclidean algorithm: 1\n"
     ]
    }
   ],
   "source": [
    "#Write a python function to find HCf or GCD and return the value using euclidian Algorithm\n",
    "\n",
    "def euclidean(x, y):\n",
    "    while (y):\n",
    "        x, y = y, x % y\n",
    "    return x\n",
    "\n",
    "n1 = int(input(\"Enter first number:\"))\n",
    "n2 = int(input(\"Enter second number:\"))\n",
    "print (\"HCF of the numbers using Euclidean algorithm:\", euclidean(n1, n2))"
   ]
  },
  {
   "cell_type": "code",
   "execution_count": 12,
   "id": "d7736095",
   "metadata": {},
   "outputs": [
    {
     "name": "stdout",
     "output_type": "stream",
     "text": [
      "Enter first number:2\n",
      "Enter second number:8\n",
      "HCF of the numbers using Euclidean algorithm: 2\n"
     ]
    }
   ],
   "source": [
    "#Write a python program to find HCf or GCD using euclidian Algorithm\n",
    "\n",
    "n1 = int(input(\"Enter first number:\"))\n",
    "n2 = int(input(\"Enter second number:\"))\n",
    "while (n2):\n",
    "    n1, n2 = n2, n1 % n2\n",
    "    \n",
    "print (\"HCF of the numbers using Euclidean algorithm:\", n1)"
   ]
  },
  {
   "cell_type": "code",
   "execution_count": 13,
   "id": "f3fbe719",
   "metadata": {},
   "outputs": [
    {
     "name": "stdout",
     "output_type": "stream",
     "text": [
      "Enter first number:4\n",
      "Enter second number:9\n",
      "LCM of 4 and 9 is: 36\n"
     ]
    }
   ],
   "source": [
    "#Python Program to Find LCM\n",
    "\n",
    "n1 = int(input(\"Enter first number:\"))\n",
    "n2 = int(input(\"Enter second number:\"))\n",
    "if (n1 > n2):\n",
    "    greater = n1\n",
    "else:\n",
    "    greater = n2\n",
    "while (True):\n",
    "    if ((greater % n1 == 0) and (greater % n2 == 0)):\n",
    "        lcm = greater\n",
    "        break\n",
    "    greater = greater + 1\n",
    "print (\"LCM of {} and {} is:\".format(n1, n2), lcm)"
   ]
  },
  {
   "cell_type": "code",
   "execution_count": 14,
   "id": "16bb2cd4",
   "metadata": {},
   "outputs": [
    {
     "name": "stdout",
     "output_type": "stream",
     "text": [
      "Enter first number:2\n",
      "Enter second number:5\n",
      "LCM of 2 and 5 is: 10\n"
     ]
    }
   ],
   "source": [
    "#write a Python function to Find LCM and return the value\n",
    "\n",
    "def lcm(x, y):\n",
    "    if (x > y):\n",
    "        greater = x\n",
    "    else:\n",
    "        greater = y\n",
    "    while (True):\n",
    "        if ((greater % x == 0) and (greater % y == 0)):\n",
    "            lcm = greater\n",
    "            break\n",
    "        greater = greater + 1\n",
    "    return lcm\n",
    "\n",
    "n1 = int(input(\"Enter first number:\"))\n",
    "n2 = int(input(\"Enter second number:\"))\n",
    "print (\"LCM of {} and {} is:\".format(n1, n2), lcm(n1, n2))"
   ]
  },
  {
   "cell_type": "code",
   "execution_count": 15,
   "id": "2b66255b",
   "metadata": {},
   "outputs": [
    {
     "name": "stdout",
     "output_type": "stream",
     "text": [
      "Enter first number:4\n",
      "Enter second number:56\n",
      "LCM of 4 and 56 is: 56.0\n"
     ]
    }
   ],
   "source": [
    "#Python Program to Compute LCM Using GCD\n",
    "\n",
    "def euclidean(x, y):\n",
    "    while (y):\n",
    "        x, y = y, x % y\n",
    "    return x\n",
    "\n",
    "def lcm(x, y):\n",
    "    return (x / euclidean(x, y)) * y\n",
    "\n",
    "n1 = int(input(\"Enter first number:\"))\n",
    "n2 = int(input(\"Enter second number:\"))\n",
    "print (\"LCM of {} and {} is:\".format(n1, n2), lcm(n1, n2))"
   ]
  },
  {
   "cell_type": "code",
   "execution_count": 16,
   "id": "0bd71b55",
   "metadata": {},
   "outputs": [
    {
     "name": "stdout",
     "output_type": "stream",
     "text": [
      "Enter a number:5\n",
      "Factors of 5 are:\n",
      "1\n",
      "5\n"
     ]
    }
   ],
   "source": [
    "#Python function to Find the Factors of a Number\n",
    "\n",
    "n = int(input(\"Enter a number:\"))\n",
    "print (\"Factors of {} are:\".format(n))\n",
    "for i in range (1, n + 1):\n",
    "    if (n % i == 0):\n",
    "        print (i)"
   ]
  },
  {
   "cell_type": "code",
   "execution_count": 18,
   "id": "81b163cb",
   "metadata": {},
   "outputs": [
    {
     "name": "stdout",
     "output_type": "stream",
     "text": [
      "Enter first number:5\n",
      "Enter sencond number:9\n",
      "Enter number corresponding to the operation you want to perform --\n",
      "1. Addition\n",
      "2. Subtraction\n",
      "3. Multiplication\n",
      "4. Division\n",
      "3\n",
      "Product of the numbers: 45\n"
     ]
    }
   ],
   "source": [
    "#Python Program to Make a Simple Calculator\n",
    "\n",
    "def add(x, y):\n",
    "    return x + y\n",
    "\n",
    "def sub(x, y):\n",
    "    return x - y\n",
    "\n",
    "def mul(x, y):\n",
    "    return x * y\n",
    "\n",
    "def div(x, y):\n",
    "    return x / y\n",
    "\n",
    "n1 = int(input(\"Enter first number:\"))\n",
    "n2 = int(input(\"Enter sencond number:\"))\n",
    "q = '''Enter number corresponding to the operation you want to perform --\n",
    "1. Addition\n",
    "2. Subtraction\n",
    "3. Multiplication\n",
    "4. Division'''\n",
    "print (q)\n",
    "choice = int(input())\n",
    "if (choice == 1):\n",
    "    print (\"Sum of the numbers:\", add(n1, n2))\n",
    "elif (choice == 2):\n",
    "    print (\"Difference of the numbers:\", sub(n1, n2))\n",
    "elif (choice == 3):\n",
    "    print (\"Product of the numbers:\", mul(n1, n2))\n",
    "elif (choice == 4):\n",
    "    print (\"Divison of the numbers:\", div(n1, n2))\n",
    "else:\n",
    "    print (\"Invalid choice\")"
   ]
  },
  {
   "cell_type": "code",
   "execution_count": 19,
   "id": "223751d3",
   "metadata": {},
   "outputs": [
    {
     "name": "stdout",
     "output_type": "stream",
     "text": [
      "List before sorting: ['xyz', 'abc', 'def', 'jkl', 'iop']\n",
      "List after sorting: ['abc', 'def', 'iop', 'jkl', 'xyz']\n"
     ]
    }
   ],
   "source": [
    "#Python program to Sort the list in ascending order\n",
    "\n",
    "l = [\"xyz\", \"abc\", \"def\", \"jkl\", \"iop\"]\n",
    "print (\"List before sorting:\", l)\n",
    "l.sort()\n",
    "print (\"List after sorting:\", l)"
   ]
  },
  {
   "cell_type": "code",
   "execution_count": 20,
   "id": "b6a65f82",
   "metadata": {},
   "outputs": [
    {
     "name": "stdout",
     "output_type": "stream",
     "text": [
      "List before sorting: ['xyz', 'abc', 'def', 'jkl', 'iop']\n",
      "List after sorting: ['xyz', 'jkl', 'iop', 'def', 'abc']\n"
     ]
    }
   ],
   "source": [
    "#Python program to Sort the list in descending order\n",
    "\n",
    "l = [\"xyz\", \"abc\", \"def\", \"jkl\", \"iop\"]\n",
    "print (\"List before sorting:\", l)\n",
    "l.sort(reverse = True)\n",
    "print (\"List after sorting:\", l)"
   ]
  },
  {
   "cell_type": "code",
   "execution_count": 21,
   "id": "1af7c1b4",
   "metadata": {},
   "outputs": [
    {
     "name": "stdout",
     "output_type": "stream",
     "text": [
      "['xyz', 'abc', 'def', 'jkl', 'iop']\n",
      "Enter the index number of the element you want to remove:2\n",
      "Item to be removed: def\n",
      "List after removal of the item: ['xyz', 'abc', 'jkl', 'iop']\n"
     ]
    }
   ],
   "source": [
    "#Removes the item at the given index from the list and returns the removed item\n",
    "\n",
    "l = [\"xyz\", \"abc\", \"def\", \"jkl\", \"iop\"]\n",
    "print (l)\n",
    "index = int(input(\"Enter the index number of the element you want to remove:\"))\n",
    "print (\"Item to be removed:\", l[index])\n",
    "del l[index]\n",
    "print (\"List after removal of the item:\", l)"
   ]
  },
  {
   "cell_type": "code",
   "execution_count": 22,
   "id": "9d0044c6",
   "metadata": {},
   "outputs": [
    {
     "name": "stdout",
     "output_type": "stream",
     "text": [
      "['xyz', 'abc', 'def', 'jkl', 'iop', 'xyz', 'jkl', 'xyz', 'def', 'jkl']\n",
      "Enter the element you want to count:xyz\n",
      "Number of times xyz appeared in the list: 3\n"
     ]
    }
   ],
   "source": [
    "#Returns the number of times the specified element appears in the list\n",
    "\n",
    "l = [\"xyz\", \"abc\", \"def\", \"jkl\", \"iop\",\"xyz\",\"jkl\",\"xyz\",\"def\",\"jkl\"]\n",
    "print(l)\n",
    "ele = input(\"Enter the element you want to count:\")\n",
    "print (\"Number of times {} appeared in the list:\".format(ele), l.count(ele))"
   ]
  },
  {
   "cell_type": "code",
   "execution_count": 23,
   "id": "65615c13",
   "metadata": {},
   "outputs": [
    {
     "name": "stdout",
     "output_type": "stream",
     "text": [
      "Enter a string:hello world\n",
      "First character of string: h\n"
     ]
    }
   ],
   "source": [
    "#Access first characters in a string\n",
    "\n",
    "e = input(\"Enter a string:\")\n",
    "print (\"First character of string:\", e[0])"
   ]
  },
  {
   "cell_type": "code",
   "execution_count": 24,
   "id": "7a34498c",
   "metadata": {},
   "outputs": [
    {
     "name": "stdout",
     "output_type": "stream",
     "text": [
      "Enter a string:hello world\n",
      "First character of string: d\n"
     ]
    }
   ],
   "source": [
    "#Access Last characters in a string\n",
    "\n",
    "e = input(\"Enter a string:\")\n",
    "print (\"First character of string:\", e[-1])"
   ]
  },
  {
   "cell_type": "code",
   "execution_count": 25,
   "id": "ed363133",
   "metadata": {},
   "outputs": [
    {
     "name": "stdout",
     "output_type": "stream",
     "text": [
      "[0, 1, 2, 3, 4, 5, 6, 7, 8, 9]\n"
     ]
    }
   ],
   "source": [
    "# Generate a list by list comprehension\n",
    "\n",
    "new = [i for i in range(10)]\n",
    "print (new)"
   ]
  },
  {
   "cell_type": "code",
   "execution_count": 26,
   "id": "0cda8710",
   "metadata": {},
   "outputs": [
    {
     "name": "stdout",
     "output_type": "stream",
     "text": [
      "List: ['xyz', 'abc', 'def', 'jkl', 'iop']\n",
      "List in upper case: ['XYZ', 'ABC', 'DEF', 'JKL', 'IOP']\n"
     ]
    }
   ],
   "source": [
    "# Set the values in the new list to upper case\n",
    "\n",
    "l = [\"xyz\", \"abc\", \"def\", \"jkl\", \"iop\"]\n",
    "m = []\n",
    "print (\"List:\", l)\n",
    "for i in l:\n",
    "    m.append(i.upper())\n",
    "print (\"List in upper case:\", m)"
   ]
  },
  {
   "cell_type": "code",
   "execution_count": 27,
   "id": "30287d1f",
   "metadata": {},
   "outputs": [
    {
     "name": "stdout",
     "output_type": "stream",
     "text": [
      "List before sorting: ['xyz', 'abc', 'def', 'jkl', 'iop']\n",
      "List after sorting: ['abc', 'def', 'iop', 'jkl', 'xyz']\n"
     ]
    }
   ],
   "source": [
    "# Sort the string list alphabetically\n",
    "\n",
    "l = [\"xyz\", \"abc\", \"def\", \"jkl\", \"iop\"]\n",
    "print (\"List before sorting:\", l)\n",
    "l.sort()\n",
    "print (\"List after sorting:\", l)"
   ]
  },
  {
   "cell_type": "code",
   "execution_count": 28,
   "id": "2ec89642",
   "metadata": {},
   "outputs": [
    {
     "name": "stdout",
     "output_type": "stream",
     "text": [
      "Set 1: {1, 2, 3, 4, 5}\n",
      "Set 2: {8, 9, 6, 7}\n",
      "Joining both the lists: {1, 2, 3, 4, 5, 6, 7, 8, 9}\n"
     ]
    }
   ],
   "source": [
    "# Join Two Sets\n",
    "\n",
    "s1 = {1, 2, 3, 4, 5}\n",
    "s2 = {6, 7, 8, 9}\n",
    "print (\"Set 1:\", s1)\n",
    "print (\"Set 2:\", s2)\n",
    "print (\"Joining both the lists:\", s1.union(s2))"
   ]
  },
  {
   "cell_type": "code",
   "execution_count": 29,
   "id": "81696cf6",
   "metadata": {},
   "outputs": [
    {
     "name": "stdout",
     "output_type": "stream",
     "text": [
      "Set 1: {1, 2, 3, 4, 5}\n",
      "Set 2: {4, 5, 6, 7, 8, 9}\n",
      "Joining both the lists: {4, 5}\n"
     ]
    }
   ],
   "source": [
    "#Keep only the items that are present in both sets\n",
    "\n",
    "s1 = {1, 2, 3, 4, 5}\n",
    "s2 = {4, 5, 6, 7, 8, 9}\n",
    "print (\"Set 1:\", s1)\n",
    "print (\"Set 2:\", s2)\n",
    "print (\"Joining both the lists:\", s1.intersection(s2))"
   ]
  },
  {
   "cell_type": "code",
   "execution_count": 30,
   "id": "5d3c6a1e",
   "metadata": {},
   "outputs": [
    {
     "name": "stdout",
     "output_type": "stream",
     "text": [
      "List: ['xyz', 'abc', 'def', 'jkl', 'iop', 'xyz', 'jkl', 'xyz', 'def', 'jkl']\n",
      "After removing duplicates: ['def', 'abc', 'xyz', 'jkl', 'iop']\n"
     ]
    }
   ],
   "source": [
    "#Keep All items from List But NOT the Duplicates\n",
    "\n",
    "l = [\"xyz\", \"abc\", \"def\", \"jkl\", \"iop\",\"xyz\",\"jkl\",\"xyz\",\"def\",\"jkl\"]\n",
    "print (\"List:\", l)\n",
    "s = set(l)\n",
    "l = list(s)\n",
    "print (\"After removing duplicates:\", l)"
   ]
  },
  {
   "cell_type": "code",
   "execution_count": 31,
   "id": "487349c1",
   "metadata": {},
   "outputs": [
    {
     "name": "stdout",
     "output_type": "stream",
     "text": [
      "Dictionary: {'xyz': 2, 'abc': 4, 'jkl': 9}\n"
     ]
    }
   ],
   "source": [
    "# Create and print a dictionary\n",
    "\n",
    "dic = {\"xyz\" : 2, \"abc\" : 4, \"jkl\" : 9}\n",
    "print (\"Dictionary:\", dic)"
   ]
  },
  {
   "cell_type": "code",
   "execution_count": 32,
   "id": "fc6b6614",
   "metadata": {},
   "outputs": [
    {
     "name": "stdout",
     "output_type": "stream",
     "text": [
      "Length of the dictionary: 3\n"
     ]
    }
   ],
   "source": [
    "# Calculate the length of dictionary\n",
    "\n",
    "dic = {\"xyz\" : 2, \"abc\" : 4, \"jkl\" : 9}\n",
    "print (\"Length of the dictionary:\", len(dic))"
   ]
  }
 ],
 "metadata": {
  "kernelspec": {
   "display_name": "Python 3",
   "language": "python",
   "name": "python3"
  },
  "language_info": {
   "codemirror_mode": {
    "name": "ipython",
    "version": 3
   },
   "file_extension": ".py",
   "mimetype": "text/x-python",
   "name": "python",
   "nbconvert_exporter": "python",
   "pygments_lexer": "ipython3",
   "version": "3.8.8"
  }
 },
 "nbformat": 4,
 "nbformat_minor": 5
}
