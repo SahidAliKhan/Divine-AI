{
 "cells": [
  {
   "cell_type": "code",
   "execution_count": 2,
   "id": "559a57da",
   "metadata": {},
   "outputs": [
    {
     "name": "stdout",
     "output_type": "stream",
     "text": [
      "Enter a stringaIbohPhoBiA\n",
      "The string is a palindrome.\n"
     ]
    }
   ],
   "source": [
    "#Python Program to Check Whether a String is Palindrome or Not\n",
    "str = input(\"Enter a string\")\n",
    "\n",
    "str = str.casefold()\n",
    "\n",
    "rev_str = reversed(str)\n",
    "\n",
    "if list(str) == list(rev_str):\n",
    "   print(\"The string is a palindrome.\")\n",
    "else:\n",
    "   print(\"The string is not a palindrome.\")\n"
   ]
  },
  {
   "cell_type": "code",
   "execution_count": 4,
   "id": "cef84843",
   "metadata": {},
   "outputs": [
    {
     "name": "stdout",
     "output_type": "stream",
     "text": [
      "Enter a string: Hii, I am Dipam.\n",
      "Hii I am Dipam\n"
     ]
    }
   ],
   "source": [
    "#Python Program to Remove Punctuations From a String\n",
    "punctuations = '''!()-[]{};:'\"\\,<>./?@#$%^&*_~'''\n",
    "\n",
    "str = input(\"Enter a string: \")\n",
    "no_punct = \"\"\n",
    "for char in str:\n",
    "   if char not in punctuations:\n",
    "       no_punct = no_punct + char\n",
    "\n",
    "print(no_punct)"
   ]
  },
  {
   "cell_type": "code",
   "execution_count": 5,
   "id": "a177de9f",
   "metadata": {},
   "outputs": [
    {
     "name": "stdout",
     "output_type": "stream",
     "text": [
      "Enter a string: This is a sorting example\n",
      "The sorted words are:\n",
      "a\n",
      "example\n",
      "is\n",
      "sorting\n",
      "this\n"
     ]
    }
   ],
   "source": [
    "#Python Program to Sort Words in Alphabetic Order\n",
    "str = input(\"Enter a string: \")\n",
    "\n",
    "words = [word.lower() for word in str.split()]\n",
    "\n",
    "words.sort()\n",
    "\n",
    "print(\"The sorted words are:\")\n",
    "for word in words:\n",
    "   print(word)"
   ]
  },
  {
   "cell_type": "code",
   "execution_count": 6,
   "id": "a9f19689",
   "metadata": {},
   "outputs": [
    {
     "name": "stdout",
     "output_type": "stream",
     "text": [
      "Union of E and N is {0, 1, 2, 3, 4, 5, 6, 8}\n",
      "Intersection of E and N is {2, 4}\n",
      "Difference of E and N is {0, 8, 6}\n",
      "Symmetric difference of E and N is {0, 1, 3, 5, 6, 8}\n"
     ]
    }
   ],
   "source": [
    "#Python Program to Illustrate Different Set Operations\n",
    "E = {0, 2, 4, 6, 8};\n",
    "N = {1, 2, 3, 4, 5};\n",
    "\n",
    "print(\"Union of E and N is\",E | N)\n",
    "\n",
    "print(\"Intersection of E and N is\",E & N)\n",
    "\n",
    "print(\"Difference of E and N is\",E - N)\n",
    "\n",
    "print(\"Symmetric difference of E and N is\",E ^ N)"
   ]
  },
  {
   "cell_type": "code",
   "execution_count": 7,
   "id": "374b8ba8",
   "metadata": {},
   "outputs": [
    {
     "name": "stdout",
     "output_type": "stream",
     "text": [
      "Enter a string: this is a vowel example\n",
      "{'a': 2, 'e': 3, 'i': 2, 'o': 1, 'u': 0}\n"
     ]
    }
   ],
   "source": [
    "#Python Program to Count the Number of Each Vowel \n",
    "vowels = 'aeiou'\n",
    "\n",
    "str = input(\"Enter a string: \")\n",
    "\n",
    "str = str.casefold()\n",
    "\n",
    "count = {}.fromkeys(vowels,0)\n",
    "\n",
    "for char in str:\n",
    "   if char in count:\n",
    "       count[char] += 1\n",
    "\n",
    "print(count)"
   ]
  },
  {
   "cell_type": "code",
   "execution_count": 8,
   "id": "c32903e6",
   "metadata": {},
   "outputs": [
    {
     "name": "stdout",
     "output_type": "stream",
     "text": [
      "Enter a string: this is a vowel example\n",
      "{'a': 2, 'e': 3, 'i': 2, 'o': 1, 'u': 0}\n"
     ]
    }
   ],
   "source": [
    "#Python Program to Count the Number of Each Vowel Using a list and a dictionary comprehension\n",
    "ip_str = input(\"Enter a string: \")\n",
    "\n",
    "ip_str = ip_str.casefold()\n",
    "\n",
    "count = {x:sum([1 for char in ip_str if char == x]) for x in 'aeiou'}\n",
    "\n",
    "print(count)"
   ]
  },
  {
   "cell_type": "code",
   "execution_count": 17,
   "id": "b8a2b865",
   "metadata": {},
   "outputs": [
    {
     "name": "stdout",
     "output_type": "stream",
     "text": [
      "['[0]->[1]', '[1]->[2]', '[2]->[3]', '[3]', '[4]->[5]', '[5]->[6]']\n"
     ]
    }
   ],
   "source": [
    "#Python Program Given a sorted integer array without duplicates, return the summary of its ranges.\n",
    "\n",
    "array = [0, 1, 2, 3, 4, 5]\n",
    "empty = []\n",
    "for i in array:\n",
    "    if (i != i+1 and 0 <= i <= 2):\n",
    "        empty.append(\"[{}]->[{}]\".format(i, i+1))\n",
    "    elif (i != i+1 and 4 <= i <= 5):\n",
    "        empty.append(\"[{}]->[{}]\".format(i, i+1))\n",
    "    else:\n",
    "        empty.append(\"[{}]\".format(i))\n",
    "print (empty)"
   ]
  },
  {
   "cell_type": "code",
   "execution_count": 18,
   "id": "cdb794f6",
   "metadata": {},
   "outputs": [
    {
     "name": "stdout",
     "output_type": "stream",
     "text": [
      "[[1, 2, 3], [4, 5, 6], [7, 8, 9]]\n"
     ]
    }
   ],
   "source": [
    "#Python Program Given a list slice it into a 3 equal chunks and revert each list\n",
    "\n",
    "def chunk(l, n):\n",
    "    for i in range(0, len(l), n):\n",
    "        yield l[i : i + n]\n",
    "\n",
    "num = [1, 2, 3, 4, 5, 6, 7, 8, 9]\n",
    "a = list(chunk(num, 3))\n",
    "print (a)"
   ]
  },
  {
   "cell_type": "code",
   "execution_count": 19,
   "id": "4199e6cd",
   "metadata": {},
   "outputs": [
    {
     "name": "stdout",
     "output_type": "stream",
     "text": [
      "First array: [2, 4, 5, 1, 0, 8, 6]\n",
      "Second array: [2, 1, 8, 6, 5, 4]\n"
     ]
    }
   ],
   "source": [
    "#Python Program to Consider an array of non-negative integers. A second array is formed by shuffling the elements of the first array and deleting a random element\n",
    "\n",
    "import random\n",
    "arr_1 = [2, 4, 5, 1, 0, 8, 6]\n",
    "print (\"First array:\", arr_1)\n",
    "random.shuffle(arr_1)\n",
    "a = random.choice(arr_1)\n",
    "arr_1.remove(a)\n",
    "print (\"Second array:\", arr_1)"
   ]
  },
  {
   "cell_type": "code",
   "execution_count": 13,
   "id": "7fa9028b",
   "metadata": {},
   "outputs": [
    {
     "name": "stdout",
     "output_type": "stream",
     "text": [
      "[4, 5, 6, 1, 2, 3]\n"
     ]
    }
   ],
   "source": [
    "#Python Program to Rotate an array of n elements to the right by k steps.\n",
    "def rightRotate(lists, num):\n",
    "    output_list = []\n",
    "      \n",
    "    for item in range(len(lists) - num, len(lists)):\n",
    "        output_list.append(lists[item])\n",
    "\n",
    "    for item in range(0, len(lists) - num): \n",
    "        output_list.append(lists[item])\n",
    "          \n",
    "    return output_list\n",
    "\n",
    "rotate_num = 3\n",
    "list_1 = [1, 2, 3, 4, 5, 6]\n",
    "  \n",
    "print(rightRotate(list_1, rotate_num))"
   ]
  },
  {
   "cell_type": "code",
   "execution_count": 16,
   "id": "d01772a3",
   "metadata": {},
   "outputs": [
    {
     "name": "stdout",
     "output_type": "stream",
     "text": [
      "Enter the base number: 6\n",
      "Enter the exponent: 4\n",
      "Answer =  1296\n"
     ]
    }
   ],
   "source": [
    "#write a program to calculate exponents of an input\n",
    "base = int(input(\"Enter the base number: \"))\n",
    "exponent = int(input(\"Enter the exponent: \"))\n",
    "\n",
    "result = pow(base, exponent)\n",
    "\n",
    "print(\"Answer = \",result)"
   ]
  },
  {
   "cell_type": "code",
   "execution_count": 20,
   "id": "405eadff",
   "metadata": {},
   "outputs": [
    {
     "name": "stdout",
     "output_type": "stream",
     "text": [
      "Enter the divisor: 6\n",
      "Enter the dividend: 8\n",
      "Reminder is 2\n"
     ]
    }
   ],
   "source": [
    "#write a program to find and print the remainder of two number\n",
    "divisor = int(input(\"Enter the divisor: \"))\n",
    "dividend = int(input(\"Enter the dividend: \"))\n",
    "quotient = dividend//divisor\n",
    "reminder = dividend % divisor\n",
    "print(\"Reminder is\",reminder)"
   ]
  },
  {
   "cell_type": "code",
   "execution_count": 21,
   "id": "c33b1891",
   "metadata": {},
   "outputs": [
    {
     "name": "stdout",
     "output_type": "stream",
     "text": [
      "Enter a number:5635\n",
      "The total sum of digits is: 19\n"
     ]
    }
   ],
   "source": [
    "#Python program to compute sum of digits in number\n",
    "n=int(input(\"Enter a number:\"))\n",
    "sum=0\n",
    "while(n>0):\n",
    "    digit=n%10\n",
    "    sum=sum+digit\n",
    "    n=n//10\n",
    "print(\"The total sum of digits is:\",sum)"
   ]
  }
 ],
 "metadata": {
  "kernelspec": {
   "display_name": "Python 3",
   "language": "python",
   "name": "python3"
  },
  "language_info": {
   "codemirror_mode": {
    "name": "ipython",
    "version": 3
   },
   "file_extension": ".py",
   "mimetype": "text/x-python",
   "name": "python",
   "nbconvert_exporter": "python",
   "pygments_lexer": "ipython3",
   "version": "3.8.8"
  }
 },
 "nbformat": 4,
 "nbformat_minor": 5
}
