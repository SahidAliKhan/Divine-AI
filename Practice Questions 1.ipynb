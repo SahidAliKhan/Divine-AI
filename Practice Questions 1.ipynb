{
 "cells": [
  {
   "cell_type": "code",
   "execution_count": 1,
   "id": "12378705",
   "metadata": {},
   "outputs": [
    {
     "name": "stdout",
     "output_type": "stream",
     "text": [
      "Enter distance in Kilometer:4\n",
      "Distance in Miles: 2.4860161591050343\n"
     ]
    }
   ],
   "source": [
    "#Python Program to Convert Kilometers to Miles\n",
    "\n",
    "dist = int(input(\"Enter distance in Kilometer:\"))\n",
    "print (\"Distance in Miles:\", dist / 1.609)"
   ]
  },
  {
   "cell_type": "code",
   "execution_count": 2,
   "id": "b74ef24e",
   "metadata": {},
   "outputs": [
    {
     "name": "stdout",
     "output_type": "stream",
     "text": [
      "Enter temperature in Celsius:76\n",
      "Temperature in Fahrenheit: 168.8\n"
     ]
    }
   ],
   "source": [
    "#Python Program to Convert Celsius To Fahrenheit\n",
    "\n",
    "cel = int(input(\"Enter temperature in Celsius:\"))\n",
    "print (\"Temperature in Fahrenheit:\", (cel * 1.8) + 32)\n"
   ]
  },
  {
   "cell_type": "code",
   "execution_count": 3,
   "id": "c97b1cd3",
   "metadata": {},
   "outputs": [
    {
     "name": "stdout",
     "output_type": "stream",
     "text": [
      "Enter a number:45\n",
      "Number is positive\n"
     ]
    }
   ],
   "source": [
    "#Python Program to Check if a Number is Positive, Negative or 0\n",
    "\n",
    "num = int(input(\"Enter a number:\"))\n",
    "if (num > 0):\n",
    "    print (\"Number is positive\")\n",
    "elif (num == 0):\n",
    "    print (\"Number is 0\")\n",
    "else:\n",
    "    print (\"Number is negative\")"
   ]
  },
  {
   "cell_type": "code",
   "execution_count": 4,
   "id": "9174327b",
   "metadata": {},
   "outputs": [
    {
     "name": "stdout",
     "output_type": "stream",
     "text": [
      "Enter a number:88\n",
      "88 is even\n"
     ]
    }
   ],
   "source": [
    "#Python Program to Check if a Number is Odd or Even\n",
    "\n",
    "num = int(input(\"Enter a number:\"))\n",
    "if (num % 2 == 0):\n",
    "    print (\"{} is even\".format(num))\n",
    "else:\n",
    "    print (\"{} is odd\".format(num))"
   ]
  },
  {
   "cell_type": "code",
   "execution_count": 5,
   "id": "0719a122",
   "metadata": {},
   "outputs": [
    {
     "name": "stdout",
     "output_type": "stream",
     "text": [
      "Enter an year:2077\n",
      "2077 is not a leap year\n"
     ]
    }
   ],
   "source": [
    "#Python Program to Check Leap Year\n",
    "\n",
    "year = int(input(\"Enter an year:\"))\n",
    "if (year % 4 == 0):\n",
    "    if (year % 100 == 0):\n",
    "        if (year % 400 == 0):\n",
    "            print (\"{} is a leap year\".format(year))\n",
    "        else:\n",
    "            print (\"{} is not a leap year\".format(year))\n",
    "    else:\n",
    "         print (\"{} is a leap year\".format(year))\n",
    "else:\n",
    "     print (\"{} is not a leap year\".format(year))"
   ]
  },
  {
   "cell_type": "code",
   "execution_count": 6,
   "id": "e453c408",
   "metadata": {},
   "outputs": [
    {
     "name": "stdout",
     "output_type": "stream",
     "text": [
      "Enter 1st number:4\n",
      "Enter 2nd number:2\n",
      "Enter 3rd number:7\n",
      "7 is greatest\n"
     ]
    }
   ],
   "source": [
    "#Python Program to Find the Largest Among Three Numbers\n",
    "\n",
    "a = int(input(\"Enter 1st number:\"))\n",
    "b = int(input(\"Enter 2nd number:\"))\n",
    "c = int(input(\"Enter 3rd number:\"))\n",
    "if (a > b and a > c):\n",
    "    print(\"{} is greatest\".format(a))\n",
    "elif (b > a and b > c):\n",
    "    print (\"{} is greatest\".format(b))\n",
    "else:\n",
    "    print (\"{} is greatest\".format(c))"
   ]
  },
  {
   "cell_type": "code",
   "execution_count": 8,
   "id": "7d0da743",
   "metadata": {},
   "outputs": [
    {
     "name": "stdout",
     "output_type": "stream",
     "text": [
      "Enter a number:87\n",
      "87  is not a prime number\n"
     ]
    }
   ],
   "source": [
    "#Write a Python Program to check if a number is prime or not\n",
    "\n",
    "n = int(input(\"Enter a number:\"))\n",
    "flag = 0\n",
    "for i in range (2, n):\n",
    "    if (n % i == 0):\n",
    "        flag = 1\n",
    "        \n",
    "if (flag == 1):\n",
    "    print (n,\" is not a prime number\")\n",
    "else:\n",
    "    print (n,\" is a prime number\")"
   ]
  },
  {
   "cell_type": "code",
   "execution_count": 10,
   "id": "157e6305",
   "metadata": {},
   "outputs": [
    {
     "name": "stdout",
     "output_type": "stream",
     "text": [
      "Enter lower limit of the range:5\n",
      "Enter upper limit of the range:23\n",
      "List of prime numbers between 5 and 23 are:\n",
      "5\n",
      "7\n",
      "11\n",
      "13\n",
      "17\n",
      "19\n",
      "23\n"
     ]
    }
   ],
   "source": [
    "#Python program to display all the prime numbers within an interval\n",
    "\n",
    "l = int(input(\"Enter lower limit of the range:\"))\n",
    "u = int(input(\"Enter upper limit of the range:\"))\n",
    "print (\"List of prime numbers between {} and {} are:\".format(l, u))\n",
    "for i in range (l, u + 1):\n",
    "    for j in range(2, i):\n",
    "        if (i > 1):\n",
    "            if (i % j == 0):\n",
    "                 break\n",
    "    else:\n",
    "        print(i)"
   ]
  },
  {
   "cell_type": "code",
   "execution_count": 11,
   "id": "5982f9aa",
   "metadata": {},
   "outputs": [
    {
     "name": "stdout",
     "output_type": "stream",
     "text": [
      "Enter a number:6\n",
      "Factorial: 720\n"
     ]
    }
   ],
   "source": [
    "#Python program to find the factorial of a number\n",
    "\n",
    "n = int(input(\"Enter a number:\"))\n",
    "fact = 1\n",
    "if (n == 0):\n",
    "    print (\"Factorial: 0\")\n",
    "elif (n == 1):\n",
    "    print (\"Factorial: 1\")\n",
    "else:\n",
    "    for i in range (n, 0, -1):\n",
    "        fact = fact * i\n",
    "print (\"Factorial:\", fact)"
   ]
  },
  {
   "cell_type": "code",
   "execution_count": 12,
   "id": "8e0c6436",
   "metadata": {},
   "outputs": [
    {
     "name": "stdout",
     "output_type": "stream",
     "text": [
      "Enter a number:5\n",
      "Multiplication table of  5\n",
      "5 x 1 = 5\n",
      "5 x 2 = 10\n",
      "5 x 3 = 15\n",
      "5 x 4 = 20\n",
      "5 x 5 = 25\n",
      "5 x 6 = 30\n",
      "5 x 7 = 35\n",
      "5 x 8 = 40\n",
      "5 x 9 = 45\n",
      "5 x 10 = 50\n"
     ]
    }
   ],
   "source": [
    "#Python Program to Display the multiplication Table\n",
    "\n",
    "n = int(input(\"Enter a number:\"))\n",
    "print (\"Multiplication table of \",n)\n",
    "for i in range (1, 11):\n",
    "    print (n, \"x\", i, \"=\", n * i)"
   ]
  },
  {
   "cell_type": "code",
   "execution_count": 14,
   "id": "588edd94",
   "metadata": {},
   "outputs": [
    {
     "name": "stdout",
     "output_type": "stream",
     "text": [
      "Enter a number:8\n",
      "Fibonacci series of 8 numbers\n",
      "0\n",
      "1\n",
      "1\n",
      "2\n",
      "3\n",
      "5\n",
      "8\n",
      "13\n",
      "21\n"
     ]
    }
   ],
   "source": [
    "#Python Program to Print the Fibonacci sequence\n",
    "\n",
    "n = int(input(\"Enter a number:\"))\n",
    "a = 0\n",
    "b = 1\n",
    "print (\"Fibonacci series of {} numbers\".format(n))\n",
    "if n == 0:\n",
    "    print (a)\n",
    "elif n == 1:\n",
    "    print (b)\n",
    "else:\n",
    "    print (a)\n",
    "    print (b)\n",
    "    for i in range(2, n + 1):\n",
    "        c = a + b\n",
    "        a, b = b, c\n",
    "        print (c)"
   ]
  },
  {
   "cell_type": "code",
   "execution_count": 1,
   "id": "1025a411",
   "metadata": {},
   "outputs": [
    {
     "name": "stdout",
     "output_type": "stream",
     "text": [
      "Enter a number:123\n",
      "123 is not an Armstrong number\n"
     ]
    }
   ],
   "source": [
    "#Python Program to Check Armstrong Number (for 3 digits)\n",
    "\n",
    "n = int(input(\"Enter a number:\"))\n",
    "l = len(str(n))\n",
    "check = 0\n",
    "temp = n\n",
    "while (temp > 0):\n",
    "    d = temp % 10\n",
    "    check += d ** l\n",
    "    temp //= 10\n",
    "    \n",
    "if (check == n):\n",
    "    print (n,\"is an Armstrong number\")\n",
    "else:\n",
    "    print (n,\"is not an Armstrong number\")"
   ]
  },
  {
   "cell_type": "code",
   "execution_count": null,
   "id": "43a62bee",
   "metadata": {},
   "outputs": [],
   "source": []
  }
 ],
 "metadata": {
  "kernelspec": {
   "display_name": "Python 3",
   "language": "python",
   "name": "python3"
  },
  "language_info": {
   "codemirror_mode": {
    "name": "ipython",
    "version": 3
   },
   "file_extension": ".py",
   "mimetype": "text/x-python",
   "name": "python",
   "nbconvert_exporter": "python",
   "pygments_lexer": "ipython3",
   "version": "3.8.8"
  }
 },
 "nbformat": 4,
 "nbformat_minor": 5
}
