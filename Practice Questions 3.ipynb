{
 "cells": [
  {
   "cell_type": "code",
   "execution_count": 1,
   "id": "f4912f0c",
   "metadata": {},
   "outputs": [
    {
     "name": "stdout",
     "output_type": "stream",
     "text": [
      "[7, 6, 12]\n",
      "[12, 8, 6]\n",
      "[11, 10, 18]\n"
     ]
    }
   ],
   "source": [
    "#Python Program to Add Two Matrices\n",
    "X = [[2,5,6],\n",
    "    [4 ,1,3],\n",
    "    [7 ,8,9]]\n",
    "\n",
    "Y = [[5,1,6],\n",
    "    [8,7,3],\n",
    "    [4,2,9]]\n",
    "\n",
    "result = [[0,0,0],\n",
    "         [0,0,0],\n",
    "         [0,0,0]]\n",
    "\n",
    "for i in range(len(X)):\n",
    "\n",
    "   for j in range(len(X[0])):\n",
    "       result[i][j] = X[i][j] + Y[i][j]\n",
    "\n",
    "for r in result:\n",
    "   print(r)"
   ]
  },
  {
   "cell_type": "code",
   "execution_count": 2,
   "id": "6251afc9",
   "metadata": {},
   "outputs": [
    {
     "name": "stdout",
     "output_type": "stream",
     "text": [
      "[7, 6, 12]\n",
      "[12, 8, 6]\n",
      "[11, 10, 18]\n"
     ]
    }
   ],
   "source": [
    "#Python Program to Add Two Matrices using Nested List Comprehension\n",
    "X = [[2,5,6],\n",
    "    [4 ,1,3],\n",
    "    [7 ,8,9]]\n",
    "\n",
    "Y = [[5,1,6],\n",
    "    [8,7,3],\n",
    "    [4,2,9]]\n",
    "\n",
    "result = [[X[i][j] + Y[i][j]  for j in range(len(X[0]))] for i in range(len(X))]\n",
    "\n",
    "for r in result:\n",
    "   print(r)"
   ]
  },
  {
   "cell_type": "code",
   "execution_count": 3,
   "id": "2c84ed74",
   "metadata": {},
   "outputs": [
    {
     "name": "stdout",
     "output_type": "stream",
     "text": [
      "[12, 4, 3]\n",
      "[7, 5, 8]\n"
     ]
    }
   ],
   "source": [
    "#Python Program to Transpose a Matrix using Nested Loop\n",
    "X = [[12,7],\n",
    "    [4 ,5],\n",
    "    [3 ,8]]\n",
    "\n",
    "result = [[0,0,0],\n",
    "         [0,0,0]]\n",
    "\n",
    "# iterate through rows\n",
    "for i in range(len(X)):\n",
    "   # iterate through columns\n",
    "   for j in range(len(X[0])):\n",
    "       result[j][i] = X[i][j]\n",
    "\n",
    "for r in result:\n",
    "   print(r)"
   ]
  },
  {
   "cell_type": "code",
   "execution_count": 4,
   "id": "d7cfe41c",
   "metadata": {},
   "outputs": [
    {
     "name": "stdout",
     "output_type": "stream",
     "text": [
      "[12, 4, 3]\n",
      "[7, 5, 8]\n"
     ]
    }
   ],
   "source": [
    "#Python Program to Transpose a Matrix using Nested List Comprehension\n",
    "X = [[12,7],\n",
    "    [4 ,5],\n",
    "    [3 ,8]]\n",
    "\n",
    "result = [[X[j][i] for j in range(len(X))] for i in range(len(X[0]))]\n",
    "\n",
    "for r in result:\n",
    "   print(r)"
   ]
  },
  {
   "cell_type": "code",
   "execution_count": 5,
   "id": "2550e450",
   "metadata": {},
   "outputs": [
    {
     "name": "stdout",
     "output_type": "stream",
     "text": [
      "[74, 49, 81]\n",
      "[40, 17, 54]\n",
      "[135, 81, 147]\n"
     ]
    }
   ],
   "source": [
    "#Python Program to Multiply Two Matrices using Nested Loop\n",
    "X = [[2,5,6],\n",
    "    [4 ,1,3],\n",
    "    [7 ,8,9]]\n",
    "\n",
    "Y = [[5,1,6],\n",
    "    [8,7,3],\n",
    "    [4,2,9]]\n",
    "\n",
    "result = [[0,0,0],\n",
    "         [0,0,0],\n",
    "         [0,0,0]]\n",
    "\n",
    "for i in range(len(X)):\n",
    "\n",
    "   for j in range(len(Y[0])):\n",
    "\n",
    "       for k in range(len(Y)):\n",
    "           result[i][j] += X[i][k] * Y[k][j]\n",
    "\n",
    "for r in result:\n",
    "   print(r)"
   ]
  },
  {
   "cell_type": "code",
   "execution_count": 6,
   "id": "7c044b8f",
   "metadata": {},
   "outputs": [
    {
     "name": "stdout",
     "output_type": "stream",
     "text": [
      "[74, 49, 81]\n",
      "[40, 17, 54]\n",
      "[135, 81, 147]\n"
     ]
    }
   ],
   "source": [
    "#Python Program to Multiply Two Matrices using Nested List Comprehension\n",
    "X = [[2,5,6],\n",
    "    [4 ,1,3],\n",
    "    [7 ,8,9]]\n",
    "\n",
    "Y = [[5,1,6],\n",
    "    [8,7,3],\n",
    "    [4,2,9]]\n",
    "\n",
    "result = [[sum(a*b for a,b in zip(X_row,Y_col)) for Y_col in zip(*Y)] for X_row in X]\n",
    "\n",
    "for r in result:\n",
    "   print(r)"
   ]
  }
 ],
 "metadata": {
  "kernelspec": {
   "display_name": "Python 3",
   "language": "python",
   "name": "python3"
  },
  "language_info": {
   "codemirror_mode": {
    "name": "ipython",
    "version": 3
   },
   "file_extension": ".py",
   "mimetype": "text/x-python",
   "name": "python",
   "nbconvert_exporter": "python",
   "pygments_lexer": "ipython3",
   "version": "3.8.8"
  }
 },
 "nbformat": 4,
 "nbformat_minor": 5
}
