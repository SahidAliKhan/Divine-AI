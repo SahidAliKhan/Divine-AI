{
 "cells": [
  {
   "cell_type": "code",
   "execution_count": 1,
   "id": "29b3d320",
   "metadata": {},
   "outputs": [],
   "source": [
    "from bs4 import BeautifulSoup\n",
    "import requests\n",
    "import time"
   ]
  },
  {
   "cell_type": "code",
   "execution_count": 2,
   "id": "58cac142",
   "metadata": {},
   "outputs": [],
   "source": [
    "def find_jobs():\n",
    "    html_text=requests.get('https://www.timesjobs.com/candidate/job-search.html?searchType=personalizedSearch&from=submit&txtKeywords=python&txtLocation=').text\n",
    "    soup = BeautifulSoup(html_text, 'lxml')\n",
    "    jobs = soup.find_all('li', class_='clearfix job-bx wht-shd-bx')\n",
    "    for job in jobs:\n",
    "        published_date = job.find('span', class_ = 'sim-posted').span.text\n",
    "        if 'few' in published_date:\n",
    "            company_name = job.find('h3', class_ = 'joblist-comp-name').text.replace(' ','')\n",
    "            skills = job.find('span', class_ = 'srp-skills').text.replace(' ','')\n",
    "            print(f\"Company Name: {company_name.strip()}\")\n",
    "            print(f\"Required Skills: {skills.strip()}\")\n",
    "            print('')"
   ]
  },
  {
   "cell_type": "code",
   "execution_count": null,
   "id": "0f94cb45",
   "metadata": {},
   "outputs": [
    {
     "name": "stdout",
     "output_type": "stream",
     "text": [
      "Company Name: SuryaInformaticsSolutionsPvt.Ltd.\n",
      "Required Skills: python,webtechnologies,linux,mobile,mysql,angularjs,javascript\n",
      "\n",
      "Company Name: GEMINISOFTWARESOLUTIONS\n",
      "Required Skills: python,mobile,svn,nosql,pythonscripting,git,sqldatabase\n",
      "\n",
      "Company Name: RandstadMENA\n",
      "Required Skills: python,java,technicalskills\n",
      "\n",
      "Company Name: BRICKREDTECHNOLOGIESPVT.LTD.\n",
      "Required Skills: imageprocessing,python,opencv\n",
      "\n",
      "Company Name: BRICKREDTECHNOLOGIESPVT.LTD.\n",
      "Required Skills: imageprocessing,python,opencv\n",
      "\n",
      "Company Name: BRICKREDTECHNOLOGIESPVT.LTD.\n",
      "Required Skills: imageprocessing,python,opencv\n",
      "\n",
      "Company Name: TandAHRSolutions\n",
      "Required Skills: python,git,django\n",
      "\n",
      "Company Name: VisionpixTechnologiesLLP\n",
      "Required Skills: python,oops,technicalskills,\n",
      "\n",
      "Company Name: JobsLoConsultants\n",
      "Required Skills: python,linux,windows,sql\n",
      "\n",
      "Company Name: TandAHRSolutions\n",
      "Required Skills: python,git,django\n",
      "\n",
      "Company Name: RandstadMENA\n",
      "Required Skills: python,c,oracle,database\n",
      "\n",
      "Waiting 10 minutes..\n"
     ]
    }
   ],
   "source": [
    "if __name__ == '__main__':\n",
    "    while True:\n",
    "        find_jobs()\n",
    "        time_wait = 10\n",
    "        print(f'Waiting {time_wait} minutes..')\n",
    "        time.sleep(time_wait*60)"
   ]
  }
 ],
 "metadata": {
  "kernelspec": {
   "display_name": "Python 3",
   "language": "python",
   "name": "python3"
  },
  "language_info": {
   "codemirror_mode": {
    "name": "ipython",
    "version": 3
   },
   "file_extension": ".py",
   "mimetype": "text/x-python",
   "name": "python",
   "nbconvert_exporter": "python",
   "pygments_lexer": "ipython3",
   "version": "3.8.8"
  }
 },
 "nbformat": 4,
 "nbformat_minor": 5
}
