{
 "cells": [
  {
   "cell_type": "code",
   "execution_count": 5,
   "id": "83d401ba",
   "metadata": {},
   "outputs": [
    {
     "name": "stdout",
     "output_type": "stream",
     "text": [
      "Hello World!\n"
     ]
    }
   ],
   "source": [
    "print(\"Hello World!\")"
   ]
  },
  {
   "cell_type": "code",
   "execution_count": 10,
   "id": "a5ea8a89",
   "metadata": {
    "scrolled": true
   },
   "outputs": [
    {
     "name": "stdout",
     "output_type": "stream",
     "text": [
      "Name:Sahid\n",
      "Roll No.:1830121\n",
      "Sahid 1830121\n"
     ]
    }
   ],
   "source": [
    "a = input('Name:')\n",
    "b = input('Roll No.:')\n",
    "print(a,b)"
   ]
  },
  {
   "cell_type": "code",
   "execution_count": 20,
   "id": "b0f785b4",
   "metadata": {},
   "outputs": [
    {
     "name": "stdout",
     "output_type": "stream",
     "text": [
      "18\n"
     ]
    }
   ],
   "source": [
    "x=1+5\n",
    "y=3\n",
    "print(x*y)"
   ]
  },
  {
   "cell_type": "code",
   "execution_count": 28,
   "id": "a7539a9b",
   "metadata": {},
   "outputs": [
    {
     "name": "stdout",
     "output_type": "stream",
     "text": [
      "4.5\n"
     ]
    }
   ],
   "source": [
    "x=3*3\n",
    "y=2\n",
    "print(x/y)"
   ]
  },
  {
   "cell_type": "code",
   "execution_count": 26,
   "id": "1a6d839a",
   "metadata": {},
   "outputs": [
    {
     "name": "stdout",
     "output_type": "stream",
     "text": [
      "Name:Sahid Ali Khan\n",
      "14\n"
     ]
    }
   ],
   "source": [
    "a = input('Name:')\n",
    "print(len(a))"
   ]
  },
  {
   "cell_type": "code",
   "execution_count": 17,
   "id": "62737f47",
   "metadata": {},
   "outputs": [
    {
     "name": "stdout",
     "output_type": "stream",
     "text": [
      "120 20 120 120\n"
     ]
    }
   ],
   "source": [
    "x=y=z=120\n",
    "c=20\n",
    "print(x,c,y,z)"
   ]
  },
  {
   "cell_type": "code",
   "execution_count": 29,
   "id": "b422fec4",
   "metadata": {
    "scrolled": true
   },
   "outputs": [
    {
     "name": "stdout",
     "output_type": "stream",
     "text": [
      "<class 'int'>\n"
     ]
    }
   ],
   "source": [
    "print(type(x))"
   ]
  },
  {
   "cell_type": "code",
   "execution_count": 31,
   "id": "62f4174a",
   "metadata": {},
   "outputs": [
    {
     "name": "stdout",
     "output_type": "stream",
     "text": [
      "Enter Char:Hello\n",
      "<class 'str'> Hello\n"
     ]
    }
   ],
   "source": [
    "x = str(input('Enter Char:'))\n",
    "print(type(x),x)"
   ]
  },
  {
   "cell_type": "code",
   "execution_count": 35,
   "id": "a4b0d276",
   "metadata": {},
   "outputs": [
    {
     "name": "stdout",
     "output_type": "stream",
     "text": [
      "Enter no:1830121\n",
      "<class 'int'> 1830121\n"
     ]
    }
   ],
   "source": [
    "x = int(input('Enter no:'))\n",
    "print(type(x),x)"
   ]
  },
  {
   "cell_type": "code",
   "execution_count": 50,
   "id": "d0aaad22",
   "metadata": {},
   "outputs": [
    {
     "name": "stdout",
     "output_type": "stream",
     "text": [
      "3 <class 'list'>\n"
     ]
    }
   ],
   "source": [
    "a = [1,1919,2]\n",
    "print(len(a),type(a))"
   ]
  },
  {
   "cell_type": "code",
   "execution_count": 52,
   "id": "9c40989c",
   "metadata": {},
   "outputs": [
    {
     "name": "stdout",
     "output_type": "stream",
     "text": [
      "3 <class 'tuple'>\n"
     ]
    }
   ],
   "source": [
    "a = (1,1919,2)\n",
    "print(len(a),type(a))"
   ]
  },
  {
   "cell_type": "code",
   "execution_count": 54,
   "id": "e2b4f3b8",
   "metadata": {},
   "outputs": [
    {
     "data": {
      "text/plain": [
       "('L', 'A')"
      ]
     },
     "execution_count": 54,
     "metadata": {},
     "output_type": "execute_result"
    }
   ],
   "source": [
    "aa = \"LIFEOFSPAM\"\n",
    "aa[0], aa[-2]"
   ]
  },
  {
   "cell_type": "code",
   "execution_count": 55,
   "id": "e967c5c1",
   "metadata": {},
   "outputs": [
    {
     "data": {
      "text/plain": [
       "'IF'"
      ]
     },
     "execution_count": 55,
     "metadata": {},
     "output_type": "execute_result"
    }
   ],
   "source": [
    "aa[1:3]"
   ]
  },
  {
   "cell_type": "code",
   "execution_count": 59,
   "id": "05490e1d",
   "metadata": {},
   "outputs": [
    {
     "data": {
      "text/plain": [
       "('LIFEOFS', 'LIF')"
      ]
     },
     "execution_count": 59,
     "metadata": {},
     "output_type": "execute_result"
    }
   ],
   "source": [
    "aa[:-3],aa[:3]"
   ]
  },
  {
   "cell_type": "code",
   "execution_count": 60,
   "id": "f30ce4b0",
   "metadata": {},
   "outputs": [
    {
     "data": {
      "text/plain": [
       "'PAM'"
      ]
     },
     "execution_count": 60,
     "metadata": {},
     "output_type": "execute_result"
    }
   ],
   "source": [
    "aa[-3:]"
   ]
  },
  {
   "cell_type": "code",
   "execution_count": 68,
   "id": "a9126aba",
   "metadata": {},
   "outputs": [
    {
     "data": {
      "text/plain": [
       "('LFOSA', 'LOA', 'MPFEI')"
      ]
     },
     "execution_count": 68,
     "metadata": {},
     "output_type": "execute_result"
    }
   ],
   "source": [
    "aa[::2],aa[::4], aa[::-2]"
   ]
  },
  {
   "cell_type": "code",
   "execution_count": 67,
   "id": "8806f9b0",
   "metadata": {},
   "outputs": [
    {
     "data": {
      "text/plain": [
       "('LIFEOFSPAM', 'MAPSFOEFIL')"
      ]
     },
     "execution_count": 67,
     "metadata": {},
     "output_type": "execute_result"
    }
   ],
   "source": [
    "aa[::1],aa[::-1]"
   ]
  },
  {
   "cell_type": "code",
   "execution_count": 74,
   "id": "4db0a523",
   "metadata": {},
   "outputs": [
    {
     "name": "stdout",
     "output_type": "stream",
     "text": [
      "3\n",
      "<class 'dict'> 3\n"
     ]
    }
   ],
   "source": [
    "#Dictionary\n",
    "a = {'a':1, 'b':2, 'c':3}\n",
    "print(a['c'])\n",
    "print(type(a), len(a))"
   ]
  },
  {
   "cell_type": "code",
   "execution_count": null,
   "id": "b59b5b15",
   "metadata": {},
   "outputs": [],
   "source": []
  }
 ],
 "metadata": {
  "kernelspec": {
   "display_name": "Python 3",
   "language": "python",
   "name": "python3"
  },
  "language_info": {
   "codemirror_mode": {
    "name": "ipython",
    "version": 3
   },
   "file_extension": ".py",
   "mimetype": "text/x-python",
   "name": "python",
   "nbconvert_exporter": "python",
   "pygments_lexer": "ipython3",
   "version": "3.8.8"
  }
 },
 "nbformat": 4,
 "nbformat_minor": 5
}
